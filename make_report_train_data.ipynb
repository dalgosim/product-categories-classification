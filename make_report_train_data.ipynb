{
 "cells": [
  {
   "cell_type": "code",
   "execution_count": 13,
   "metadata": {},
   "outputs": [],
   "source": [
    "import re\n",
    "import pandas as pd\n",
    "from utils.mysql_manager import mysql_con"
   ]
  },
  {
   "cell_type": "code",
   "execution_count": 19,
   "metadata": {},
   "outputs": [
    {
     "data": {
      "text/html": [
       "<div>\n",
       "<style scoped>\n",
       "    .dataframe tbody tr th:only-of-type {\n",
       "        vertical-align: middle;\n",
       "    }\n",
       "\n",
       "    .dataframe tbody tr th {\n",
       "        vertical-align: top;\n",
       "    }\n",
       "\n",
       "    .dataframe thead th {\n",
       "        text-align: right;\n",
       "    }\n",
       "</style>\n",
       "<table border=\"1\" class=\"dataframe\">\n",
       "  <thead>\n",
       "    <tr style=\"text-align: right;\">\n",
       "      <th></th>\n",
       "      <th>rpt_title</th>\n",
       "      <th>rpt_body</th>\n",
       "    </tr>\n",
       "  </thead>\n",
       "  <tbody>\n",
       "    <tr>\n",
       "      <th>0</th>\n",
       "      <td>저평가된 LG전자를 살 수 있는 좋은 기회</td>\n",
       "      <td>가전\\n\\n6개월 목표주가 : 145,000원\\n주가(2007.11.30) : 95...</td>\n",
       "    </tr>\n",
       "    <tr>\n",
       "      <th>1</th>\n",
       "      <td>2008년에 주목할 두 가지 변수 부각</td>\n",
       "      <td>인터넷\\n\\n6개월 목표주가 : 338,000원\\n주가(2007.12.3) : 24...</td>\n",
       "    </tr>\n",
       "    <tr>\n",
       "      <th>2</th>\n",
       "      <td>Claus-Peter Offen사의 발주 계획 무산은 현..</td>\n",
       "      <td>1. Claus-Peter Offen 사는 현대중공업에 초대형 컨테이너선 9척 발주...</td>\n",
       "    </tr>\n",
       "    <tr>\n",
       "      <th>3</th>\n",
       "      <td>2008년 기업가치 2배 이상 증가 기대</td>\n",
       "      <td>1. 자회사 신한이엔씨의 현대제철 코크 이동 설비 계약(554.3억원 규모)에 연대...</td>\n",
       "    </tr>\n",
       "    <tr>\n",
       "      <th>4</th>\n",
       "      <td>재 상장과 함께 본격화되는 주가 상승 모멘텀..</td>\n",
       "      <td>1. 유상감자 종료로 오늘부터 거래 재개. 평가가격(25,700원)의 50%~200...</td>\n",
       "    </tr>\n",
       "  </tbody>\n",
       "</table>\n",
       "</div>"
      ],
      "text/plain": [
       "                           rpt_title  \\\n",
       "0            저평가된 LG전자를 살 수 있는 좋은 기회   \n",
       "1              2008년에 주목할 두 가지 변수 부각   \n",
       "2  Claus-Peter Offen사의 발주 계획 무산은 현..   \n",
       "3             2008년 기업가치 2배 이상 증가 기대   \n",
       "4         재 상장과 함께 본격화되는 주가 상승 모멘텀..   \n",
       "\n",
       "                                            rpt_body  \n",
       "0  가전\\n\\n6개월 목표주가 : 145,000원\\n주가(2007.11.30) : 95...  \n",
       "1  인터넷\\n\\n6개월 목표주가 : 338,000원\\n주가(2007.12.3) : 24...  \n",
       "2  1. Claus-Peter Offen 사는 현대중공업에 초대형 컨테이너선 9척 발주...  \n",
       "3  1. 자회사 신한이엔씨의 현대제철 코크 이동 설비 계약(554.3억원 규모)에 연대...  \n",
       "4  1. 유상감자 종료로 오늘부터 거래 재개. 평가가격(25,700원)의 50%~200...  "
      ]
     },
     "execution_count": 19,
     "metadata": {},
     "output_type": "execute_result"
    }
   ],
   "source": [
    "query = '''\n",
    "select rpt_title, rpt_body\n",
    "from naver_report\n",
    "order by in_dt\n",
    "-- limit 10\n",
    "'''\n",
    "df = mysql_con.select_dataframe(query)\n",
    "df.head()"
   ]
  },
  {
   "cell_type": "code",
   "execution_count": 20,
   "metadata": {},
   "outputs": [
    {
     "data": {
      "text/plain": [
       "'가전 6개월 목표주가 : 145,000원 주가(2007.11.30) : 95,800원 핸드폰, 디스플레이 중심으로 08년 실적 빠른 개선 전망 LG전자의 2008년 실적이 빠르게 개선될 것으로 전망된다. 최근 사업 부문의 영업 호조가 내년에도 이어질 것으로 보이고, LG필립스LCD의 지분법 이익 또한 크게 늘어날 것으로 보인다. 수익성 위주 경영으로 실적 전망의 불확실성도 크게 줄어들었다. LG전자의 2008년 글로벌 기준 영업이익은 1조 8,535억원으로 07년 1조 1,826억원에 비해 56.7% 크게 증가할 것으로 보인다. 부문별로 살펴보면 가전은 2.8%, 정보통신은 18.0% 증가할 것으로 추정된다. 실적 개선이 가장 뚜렷할 부문은 디스플레이 부문으로 07년 4,465억원 적자에서 흑자 전환해 123억원을 기록할 것으로 전망된다. 분기별 모멘텀도 개선 국면, 08년 상반기 실적 모멘텀 부각 분기별로는 08년 상반기 모멘텀이 부각될 것으로 보인다. 08년 2분기 글로벌 영업이익은 6,242억원을 기록해 최고 수준의 이익을 달성할 것으로 전망한다. 07년 4분기 글로벌 영업이익은 3,298억원으로 전분기 대비 8.8% 소폭 감소할 것으로 보이나, 전년 동기비로는 110.3% 증가하는 호성적이 기대된다. 투자의견 매수, 목표주가 145,000원 유지 LG전자의 투자의견 매수와 목표 주가 145,000원을 유지한다. 이는 SOP Valuation으로 도출하였으며 2008년 예상 PER 9.7배 수준이다. 한편, 최근 외국인 매도는 LG전자의 견조한 편더멘탈을 고려할 때 서브 프라임 리스크로 인한 주식 수급 상의 이유가 주된 요인으로 판단된다. 저평가된 LG전자를 살 수 있는 좋은 기회이다.'"
      ]
     },
     "execution_count": 20,
     "metadata": {},
     "output_type": "execute_result"
    }
   ],
   "source": [
    "def clean_text(text):\n",
    "    text = re.sub(r'[\\s]+', ' ', text)\n",
    "    return text.strip()\n",
    "clean_text(df['rpt_body'].values[0])"
   ]
  },
  {
   "cell_type": "code",
   "execution_count": 22,
   "metadata": {},
   "outputs": [
    {
     "name": "stdout",
     "output_type": "stream",
     "text": [
      "19\n"
     ]
    },
    {
     "data": {
      "text/plain": [
       "'1. 자회사 신한이엔씨의 현대제철 코크 이동 설비 계약(554.3억원 규모)에 연대 보증 공시'"
      ]
     },
     "execution_count": 22,
     "metadata": {},
     "output_type": "execute_result"
    }
   ],
   "source": [
    "def extract_summary_sentence(text_body):\n",
    "    lines = [l for l in text_body.split('\\n') if len(l)>25]\n",
    "    return lines[0].strip()\n",
    "\n",
    "print(len('6개월 목표주가 : 145,000원'))\n",
    "extract_summary_sentence(df['rpt_body'].values[3])"
   ]
  },
  {
   "cell_type": "code",
   "execution_count": 24,
   "metadata": {},
   "outputs": [],
   "source": [
    "df['rpt_title'] = df['rpt_title'].apply(clean_text)\n",
    "df['rpt_body'] = df['rpt_body'].apply(clean_text)"
   ]
  },
  {
   "cell_type": "code",
   "execution_count": 25,
   "metadata": {},
   "outputs": [],
   "source": [
    "df.to_csv('outputs/report.tsv', sep='\\t')"
   ]
  },
  {
   "cell_type": "code",
   "execution_count": null,
   "metadata": {},
   "outputs": [],
   "source": []
  }
 ],
 "metadata": {
  "kernelspec": {
   "display_name": "Python 3.10.7 64-bit",
   "language": "python",
   "name": "python3"
  },
  "language_info": {
   "codemirror_mode": {
    "name": "ipython",
    "version": 3
   },
   "file_extension": ".py",
   "mimetype": "text/x-python",
   "name": "python",
   "nbconvert_exporter": "python",
   "pygments_lexer": "ipython3",
   "version": "3.10.7"
  },
  "orig_nbformat": 4,
  "vscode": {
   "interpreter": {
    "hash": "5787923279e48075a670abc6d73130cc81e6f473cb518dd83331456ff4a3b197"
   }
  }
 },
 "nbformat": 4,
 "nbformat_minor": 2
}
